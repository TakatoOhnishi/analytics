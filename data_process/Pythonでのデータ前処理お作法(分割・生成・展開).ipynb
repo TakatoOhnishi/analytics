{
 "cells": [
  {
   "cell_type": "markdown",
   "metadata": {},
   "source": [
    "## 分割(交差検証)\n",
    "- 交差検証(クロスバリデーション)\n",
    "- データをいくつかに分割して、その分割した1つのデータ群をモデルの評価用のデータとして利用し、その他のデータ群でモデルの学習を行います。\n",
    "- 過学習の影響を排除して、予測モデルの正確な精度が測定できる方法\n",
    "- pythonでは機械学習ライブラリであるsklearnライブラリのtrain_test_split関数とKFold関数をよく使う"
   ]
  },
  {
   "cell_type": "code",
   "execution_count": 11,
   "metadata": {},
   "outputs": [],
   "source": [
    "import numpy as np\n",
    "import pandas as pd\n",
    "\n",
    "\n",
    "production_tb = pd.read_csv('data/production.csv', encoding='UTF-8')\n",
    "\n",
    "from sklearn.model_selection import train_test_split\n",
    "from sklearn.model_selection import KFold\n",
    "\n",
    "#ホールドアウト検証用のデータ分割\n",
    "#予測モデルの入力値と予測対象の値を別々にtrain_test_split関数に設定"
   ]
  },
  {
   "cell_type": "code",
   "execution_count": 12,
   "metadata": {},
   "outputs": [],
   "source": [
    "#test_sizeは検証データの割合\n",
    "train_data, test_data, train_target, test_target = \\\n",
    "train_test_split(production_tb.drop('fault_flg', axis=1),production_tb[['fault_flg']],test_size=0.2)"
   ]
  },
  {
   "cell_type": "code",
   "execution_count": 13,
   "metadata": {},
   "outputs": [],
   "source": [
    "#train_test_splitによって行名を現在の行番号に直す\n",
    "train_data.reset_index(inplace=True, drop=True)\n",
    "test_data.reset_index(inplace=True, drop=True)\n",
    "train_target.reset_index(inplace=True, drop=True)\n",
    "train_target.reset_index(inplace=True, drop=True)"
   ]
  },
  {
   "cell_type": "code",
   "execution_count": 14,
   "metadata": {},
   "outputs": [],
   "source": [
    "#対象の行番号リストを生成\n",
    "row_no_list=list(range(len(train_target)))"
   ]
  },
  {
   "cell_type": "code",
   "execution_count": 15,
   "metadata": {},
   "outputs": [],
   "source": [
    "#交差検証用のデータ分割\n",
    "k_fold = KFold(n_splits=4, shuffle=True)\n",
    "\n",
    "#交差数分繰り返し処理、並列処理も可能な部分\n",
    "for train_cv_no, test_cv_no in k_fold.split(row_no_list):\n",
    "    \n",
    "    #交差検証における学習データを抽出\n",
    "    train_cv = train_data.iloc[train_cv_no, :]\n",
    "    \n",
    "    #交差検証における検証データを抽出\n",
    "    test_cv = train_data.iloc[test_cv_no, :]\n",
    "    \n",
    "    #train_dataとtrain_targetを学習データ、\n",
    "    #test_dataとtest_targetを検証データとして機械学習モデルの構築、検証\n",
    "    \n",
    "#交差検証の結果をまとめる\n",
    "#trainを学習データ、priveate_testを検証データとして機械学習モデルの構築、検証"
   ]
  },
  {
   "cell_type": "markdown",
   "metadata": {},
   "source": [
    "## 分割(時系列データの検証)\n",
    "\n",
    "- 時系列データで単純な交差検証は有効ではない。未来データを使って予測モデルを生成している可能性があるため\n",
    "- Pythonでは時系列データの分割を簡単に実現できるライブラリがないため、自ら実装する必要がある\n",
    "- 特定のモデルを作る際に自動でデータ分割するような関数を内部で利用すると、モデルを変更するときに都度面倒。\n",
    "- モデルや利用方法に依存しない汎用的なコードを必ず把握しておく\n",
    "- 対象のデータセットは月ごとの経営指標です。\n",
    "- 学習データと検証データを時間軸に対して1か月ごとにスライドしながら生成しましょう\n",
    "- 学習期間は24ヶ月、検証期間は12ヶ月、スライドする期間は12ヶ月とします"
   ]
  },
  {
   "cell_type": "code",
   "execution_count": 16,
   "metadata": {},
   "outputs": [],
   "source": [
    "monthly_index_tb = pd.read_csv('data/monthly_index.csv', encoding='UTF-8')\n",
    "\n",
    "#train_window_startに、最初の学習データの開始行番号を指定\n",
    "train_window_start = 1\n",
    "\n",
    "#train_window_endに、最初の学習データの終了行番号を指定\n",
    "train_window_end = 24\n",
    "\n",
    "#horizonに検証データのデータ数を指定\n",
    "horizon = 12\n",
    "\n",
    "#skipにスライドするデータ数を設定\n",
    "skip = 12\n",
    "\n",
    "#年月に基づいてデータを並び替え\n",
    "monthly_index_tb.sort_values(by='year_month')\n",
    "\n",
    "while True:\n",
    "    #検証データの終了行番号を計算\n",
    "    test_window_end = train_window_end + horizon\n",
    "    \n",
    "    #行番号を指定して、元データから学習データを取得\n",
    "    #train_window_startの部分を1に固定すれば学習データを増やしていく検証に変更可能\n",
    "    train = monthly_index_tb[train_window_start:train_window_end]\n",
    "    \n",
    "    #行番号を指定して元データから検証データを取得\n",
    "    test=monthly_index_tb[(train_window_end + 1):test_window_end]\n",
    "    \n",
    "    #検証データの終了行番号が元データの行数以上になっているか判定\n",
    "    if test_window_end >= len(monthly_index_tb.index ): \n",
    "        #全データを対象にした場合終了\n",
    "        break\n",
    "    \n",
    "    #データをスライドさせる\n",
    "    train_window_start += skip\n",
    "    train_window_end += skip\n",
    "    \n",
    "    #交差結果をまとめる\n"
   ]
  },
  {
   "cell_type": "markdown",
   "metadata": {},
   "source": [
    "## データ生成\n",
    "\n",
    "- 学習データが不均衡な場合に予測精度が下がることが多い\n",
    "- 解消方法としては機械学習モデル側で重みを与えること\n",
    "- もう一つはデータを操作して不均衡を解消する方法で以下がある\n",
    "- (1)少ないデータを増やすオーバーサンプリング\n",
    "- (2)多いデータを減らすアンダーサンプリング"
   ]
  },
  {
   "cell_type": "markdown",
   "metadata": {},
   "source": [
    "## アンダーサンプリング\n",
    "\n",
    "- データの選択方法は重複選択(同じデータを2回以上選択)なしがおすすめ\n",
    "- サンプリング数が少ない場合に偏りのないランダムサンプリングを実現したい場合\n",
    "- →事前にデータをクラスタリングし、作成されたクラスタごとにサンプリングをすると良い\n",
    "- ただ、アンダーサンプリングはデータを間引いて情報量を少なくするのであまりよくない\n",
    "- よく使うのは少ないデータをオーバーサンプリングし、多いデータをアンダーサンプリングをする"
   ]
  },
  {
   "cell_type": "markdown",
   "metadata": {},
   "source": [
    "## オーバーサンプリング\n",
    "\n",
    "-  SMOTEを使う(アルゴリズム概要は以下)\n",
    "- 1.生成元のデータからランダムに一つのデータを選択\n",
    "- 2.設定したkの値を元に、1-kの整数値(一様分布)からランダムに選択肢nを設定\n",
    "- 3.1.で選択したデータにn番目に近いデータを新たに選択\n",
    "- 4.1と3で選択したデータを元に新たなデータを生成\n",
    "- 製造レコードで障害が起きていないレコード927件と障害が起きているレコード73件がある。\n",
    "- 障害が起きているレコードをSMOTEを用いてオーバーサンプリングを行い、障害が起きていないレコードの件数に近づける"
   ]
  },
  {
   "cell_type": "code",
   "execution_count": 23,
   "metadata": {},
   "outputs": [],
   "source": [
    "# SMOTE関数をライブラリから読み込み\n",
    "from imblearn.over_sampling import SMOTE\n",
    "\n",
    "#SMOTE関数の設定\n",
    "#ratioは不均衡データにおける少ない例のデータを多い方のデータの何割まで増やすか設定\n",
    "#(autoの場合は同じ数まで増やす、0.5と設定すると5割までデータを増やす)\n",
    "#k_neighborsはsmoteのkパラメータ\n",
    "#random_stateは乱数のseed(乱数の生成パターンの元)\n",
    "sm=SMOTE(ratio='auto', k_neighbors=5,random_state=71)\n",
    "\n",
    "#オーバーサンプリング実行\n",
    "balance_data, balance_target = sm.fit_sample(production_tb[['length',  'thickness']], production_tb['fault_flg'])"
   ]
  },
  {
   "cell_type": "markdown",
   "metadata": {},
   "source": [
    "## テーブル横持ち・縦持ち\n",
    "\n",
    "-  データがレコード形式になっている場合を縦持ち、データが表形式の状態を横持ちという。\n",
    "- 縦持ちのデータを作成した後に、横持ちにデータを変換する必要がある\n",
    "- データセットはホテルの予約レコードです。予約テーブルから、顧客/宿泊人数ごとに予約数をカウントし、\n",
    "- 行を顧客ID、列を宿泊人数、値を予約数の行列に変換しましょう\n",
    "- pivot_table関数は一つ目の引数に対象テーブル、2つめにkeyとなるindex、columnsにデータ要素の種類\n",
    "- values引数にデータ要素の値となる対象の列を指定\n",
    "- aggfunc引数にvalues引数で指定された列値をデータの要素の値に変換する関数を指定します。"
   ]
  },
  {
   "cell_type": "code",
   "execution_count": 28,
   "metadata": {},
   "outputs": [
    {
     "data": {
      "text/html": [
       "<div>\n",
       "<style scoped>\n",
       "    .dataframe tbody tr th:only-of-type {\n",
       "        vertical-align: middle;\n",
       "    }\n",
       "\n",
       "    .dataframe tbody tr th {\n",
       "        vertical-align: top;\n",
       "    }\n",
       "\n",
       "    .dataframe thead th {\n",
       "        text-align: right;\n",
       "    }\n",
       "</style>\n",
       "<table border=\"1\" class=\"dataframe\">\n",
       "  <thead>\n",
       "    <tr style=\"text-align: right;\">\n",
       "      <th>people_num</th>\n",
       "      <th>1</th>\n",
       "      <th>2</th>\n",
       "      <th>3</th>\n",
       "      <th>4</th>\n",
       "    </tr>\n",
       "    <tr>\n",
       "      <th>customer_id</th>\n",
       "      <th></th>\n",
       "      <th></th>\n",
       "      <th></th>\n",
       "      <th></th>\n",
       "    </tr>\n",
       "  </thead>\n",
       "  <tbody>\n",
       "    <tr>\n",
       "      <th>c_1</th>\n",
       "      <td>2</td>\n",
       "      <td>2</td>\n",
       "      <td>2</td>\n",
       "      <td>2</td>\n",
       "    </tr>\n",
       "    <tr>\n",
       "      <th>c_10</th>\n",
       "      <td>0</td>\n",
       "      <td>2</td>\n",
       "      <td>2</td>\n",
       "      <td>2</td>\n",
       "    </tr>\n",
       "    <tr>\n",
       "      <th>c_100</th>\n",
       "      <td>2</td>\n",
       "      <td>1</td>\n",
       "      <td>2</td>\n",
       "      <td>0</td>\n",
       "    </tr>\n",
       "    <tr>\n",
       "      <th>c_1000</th>\n",
       "      <td>1</td>\n",
       "      <td>0</td>\n",
       "      <td>0</td>\n",
       "      <td>1</td>\n",
       "    </tr>\n",
       "    <tr>\n",
       "      <th>c_101</th>\n",
       "      <td>2</td>\n",
       "      <td>1</td>\n",
       "      <td>1</td>\n",
       "      <td>1</td>\n",
       "    </tr>\n",
       "  </tbody>\n",
       "</table>\n",
       "</div>"
      ],
      "text/plain": [
       "people_num   1  2  3  4\n",
       "customer_id            \n",
       "c_1          2  2  2  2\n",
       "c_10         0  2  2  2\n",
       "c_100        2  1  2  0\n",
       "c_1000       1  0  0  1\n",
       "c_101        2  1  1  1"
      ]
     },
     "execution_count": 28,
     "metadata": {},
     "output_type": "execute_result"
    }
   ],
   "source": [
    "#pivot_table関数で、横持ち変換と集約処理を同時実行\n",
    "#aggfuncに予約数をカウントする関数を指定\n",
    "reserve_tb = pd.read_csv('data/reserve.csv', encoding='UTF-8')\n",
    "pivot_reserve_tb=pd.pivot_table(reserve_tb, index='customer_id', columns='people_num', values='reserve_id', aggfunc=lambda x: len(x), fill_value=0)\n",
    "pivot_reserve_tb.head()"
   ]
  },
  {
   "cell_type": "markdown",
   "metadata": {},
   "source": [
    "## スパースマトリックスへの変換\n",
    "\n",
    "-  ほとんど要素の値が0の疎行列では横持ちすると列数が多くなるので、データサイズが膨れないようにする必要がある"
   ]
  },
  {
   "cell_type": "code",
   "execution_count": 37,
   "metadata": {},
   "outputs": [
    {
     "data": {
      "text/plain": [
       "<888x4 sparse matrix of type '<class 'numpy.int64'>'\n",
       "\twith 2366 stored elements in Compressed Sparse Column format>"
      ]
     },
     "execution_count": 37,
     "metadata": {},
     "output_type": "execute_result"
    }
   ],
   "source": [
    "#スパースマトリックスのライブラリを読み込み\n",
    "from scipy.sparse import csc_matrix\n",
    "reserve_tb = pd.read_csv('data/reserve.csv', encoding='UTF-8')\n",
    "\n",
    "#顧客ID/宿泊人数別の予約数の表を生成\n",
    "cnt_tb =reserve_tb.groupby(['customer_id', 'people_num'])['reserve_id'].size().reset_index()\n",
    "cnt_tb.columns=['customer_id', 'people_num', 'rsv_cnt']\n",
    "\n",
    "#sparseMatrixの行/列に該当する列の値をカテゴリ型に変換\n",
    "#カテゴリ型については「第9章 カテゴリ型」で詳しく説明\n",
    "\n",
    "customer_id = pd.Categorical(cnt_tb['customer_id'])\n",
    "people_num = pd.Categorical(cnt_tb['people_num'])\n",
    "\n",
    "#スパースマトリックスを生成\n",
    "#1の引数は指定した行列に対応した値、行番号、列番号の配列をまとめたタプルを指定\n",
    "#shapeにはスパースマトリックスのサイズを指定\n",
    "#customer_id.codesはインデックス番号の取得\n",
    "#(len(customer_id.categories))はcustomer_idのユニークな数を取得)\n",
    "csc_matrix((cnt_tb['rsv_cnt'], (customer_id.codes, people_num.codes)),\n",
    "           shape=(len(customer_id.categories), len(people_num.categories)))\n"
   ]
  },
  {
   "cell_type": "code",
   "execution_count": null,
   "metadata": {},
   "outputs": [],
   "source": []
  }
 ],
 "metadata": {
  "kernelspec": {
   "display_name": "Python 3",
   "language": "python",
   "name": "python3"
  },
  "language_info": {
   "codemirror_mode": {
    "name": "ipython",
    "version": 3
   },
   "file_extension": ".py",
   "mimetype": "text/x-python",
   "name": "python",
   "nbconvert_exporter": "python",
   "pygments_lexer": "ipython3",
   "version": "3.7.1"
  }
 },
 "nbformat": 4,
 "nbformat_minor": 2
}
