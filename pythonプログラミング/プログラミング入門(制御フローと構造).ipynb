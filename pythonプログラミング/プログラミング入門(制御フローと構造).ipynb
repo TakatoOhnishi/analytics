{
 "cells": [
  {
   "cell_type": "code",
   "execution_count": 1,
   "metadata": {},
   "outputs": [],
   "source": [
    "#コーディングルール\n",
    "## ・#でコメントをいれる\n",
    "##pythonは80文字続くと行変更する\n",
    "##改行は() or \\　のどちらか"
   ]
  },
  {
   "cell_type": "code",
   "execution_count": 3,
   "metadata": {},
   "outputs": [
    {
     "name": "stdout",
     "output_type": "stream",
     "text": [
      "zero\n"
     ]
    }
   ],
   "source": [
    "x = 10\n",
    "if x < 0:\n",
    "    print('negative')\n",
    "elif x ==10:\n",
    "    print('zero')\n",
    "elif x ==10:\n",
    "    print('10')\n",
    "else:\n",
    "    print('positive')"
   ]
  },
  {
   "cell_type": "code",
   "execution_count": 5,
   "metadata": {},
   "outputs": [
    {
     "data": {
      "text/plain": [
       "True"
      ]
     },
     "execution_count": 5,
     "metadata": {},
     "output_type": "execute_result"
    }
   ],
   "source": [
    "a=1\n",
    "b=1\n",
    "\n",
    "#aとbは等しい\n",
    "a==b"
   ]
  },
  {
   "cell_type": "code",
   "execution_count": 12,
   "metadata": {},
   "outputs": [
    {
     "ename": "IndentationError",
     "evalue": "expected an indented block (<ipython-input-12-38485e8a7af5>, line 18)",
     "output_type": "error",
     "traceback": [
      "\u001b[0;36m  File \u001b[0;32m\"<ipython-input-12-38485e8a7af5>\"\u001b[0;36m, line \u001b[0;32m18\u001b[0m\n\u001b[0;31m    print('Not equal')\u001b[0m\n\u001b[0m        ^\u001b[0m\n\u001b[0;31mIndentationError\u001b[0m\u001b[0;31m:\u001b[0m expected an indented block\n"
     ]
    }
   ],
   "source": [
    "y=[1,2,3]\n",
    "x=1\n",
    "\n",
    "if x in y:\n",
    "    print('in')\n",
    "\n",
    "if 100  not in y:\n",
    "    print('not in')\n",
    "    \n",
    "a = 1\n",
    "b = 2\n",
    "\n",
    "#if not a == b:\n",
    "#    print('Not equal')\n",
    "\n",
    "if  a != b:\n",
    "\n",
    "print('Not equal')\n"
   ]
  },
  {
   "cell_type": "code",
   "execution_count": 19,
   "metadata": {},
   "outputs": [
    {
     "name": "stdout",
     "output_type": "stream",
     "text": [
      "No!\n"
     ]
    }
   ],
   "source": [
    "#よく使うテクニック(変数に何かの数字か文字列が入っているかを確認するため)\n",
    "\n",
    "#is_ok = True\n",
    "#False,0,[]など\n",
    "\n",
    "is_ok = []\n",
    "\n",
    "if is_ok:\n",
    "    print('OK!')\n",
    "else:\n",
    "    print('No!')"
   ]
  },
  {
   "cell_type": "code",
   "execution_count": 22,
   "metadata": {},
   "outputs": [
    {
     "name": "stdout",
     "output_type": "stream",
     "text": [
      "None!!\n",
      "True\n",
      "False\n"
     ]
    }
   ],
   "source": [
    "is_empty = None\n",
    "\n",
    "if is_empty is None:\n",
    "    print('None!!')\n",
    "\n",
    "print(1 == True)\n",
    "print(1 is True)"
   ]
  },
  {
   "cell_type": "code",
   "execution_count": 23,
   "metadata": {},
   "outputs": [
    {
     "name": "stdout",
     "output_type": "stream",
     "text": [
      "0\n",
      "1\n",
      "2\n",
      "3\n",
      "4\n"
     ]
    }
   ],
   "source": [
    "#while文\n",
    "#count += 1がないと無限ループするので気をつけましょう\n",
    "count = 0\n",
    "\n",
    "while count < 5:\n",
    "    print(count)\n",
    "    count += 1\n"
   ]
  },
  {
   "cell_type": "code",
   "execution_count": 26,
   "metadata": {},
   "outputs": [
    {
     "name": "stdout",
     "output_type": "stream",
     "text": [
      "0\n",
      "1\n",
      "3\n",
      "4\n"
     ]
    }
   ],
   "source": [
    "#while文(2)\n",
    "#break文を使ってwhile文を抜けるということもできる\n",
    "#continue文は以降の次の行をすっ飛ばしてループに戻る\n",
    "count = 0\n",
    "\n",
    "while True:\n",
    "    if count >= 5:\n",
    "        break\n",
    "        \n",
    "    if count == 2:\n",
    "        count += 1\n",
    "        continue\n",
    "\n",
    "    print(count)\n",
    "    count += 1"
   ]
  },
  {
   "cell_type": "code",
   "execution_count": 33,
   "metadata": {},
   "outputs": [
    {
     "name": "stdout",
     "output_type": "stream",
     "text": [
      "0\n"
     ]
    }
   ],
   "source": [
    "count = 0\n",
    "while count < 5:\n",
    "    if count ==1: \n",
    "        break\n",
    "    print(count)\n",
    "    count += 1\n",
    "        \n",
    "else:\n",
    "   print('done')"
   ]
  },
  {
   "cell_type": "code",
   "execution_count": 35,
   "metadata": {},
   "outputs": [
    {
     "name": "stdout",
     "output_type": "stream",
     "text": [
      "Enter:ia\n",
      "next\n",
      "Enter:a\n",
      "next\n",
      "Enter:ok\n"
     ]
    }
   ],
   "source": [
    "# input文\n",
    "#whileを使って回す時にinputを使って、入力させる\n",
    "\n",
    "while True:\n",
    "    word = input('Enter:')\n",
    "    if word =='ok':\n",
    "        break\n",
    "    print('next')"
   ]
  },
  {
   "cell_type": "code",
   "execution_count": 36,
   "metadata": {},
   "outputs": [
    {
     "name": "stdout",
     "output_type": "stream",
     "text": [
      "Enter:2\n",
      "next\n",
      "Enter:3\n",
      "next\n",
      "Enter:100\n"
     ]
    }
   ],
   "source": [
    "# input文(2)\n",
    "#intで数字をいれるときの書き方\n",
    "\n",
    "while True:\n",
    "    word = input('Enter:')\n",
    "    num = int(word)\n",
    "    if num ==100:\n",
    "        break\n",
    "    print('next')"
   ]
  },
  {
   "cell_type": "code",
   "execution_count": 59,
   "metadata": {},
   "outputs": [
    {
     "name": "stdout",
     "output_type": "stream",
     "text": [
      "1\n",
      "2\n",
      "3\n",
      "4\n",
      "5\n",
      "a\n",
      "b\n",
      "c\n",
      "d\n",
      "e\n",
      "My\n",
      "is\n",
      "Mike\n"
     ]
    }
   ],
   "source": [
    "#for文\n",
    "#イテレーションを回して実行してくれる\n",
    "\n",
    "some_list = [1,2,3,4,5]\n",
    "\n",
    "#i =0 \n",
    "#while i < len(some_list):\n",
    "#   print(some_list[i])\n",
    "#    i += 1\n",
    "\n",
    "for i in some_list:\n",
    "    print(i)\n",
    "\n",
    "for s in 'abcde':\n",
    "    print(s)\n",
    "\n",
    "for word in ['My', 'name', 'is', 'Mike']:\n",
    "    if word =='name': \n",
    "            continue\n",
    "    print(word)"
   ]
  },
  {
   "cell_type": "code",
   "execution_count": 64,
   "metadata": {},
   "outputs": [
    {
     "name": "stdout",
     "output_type": "stream",
     "text": [
      "apple\n",
      "stop eating\n"
     ]
    }
   ],
   "source": [
    "for fruit in ['apple', 'banana', 'orange']:\n",
    "    if fruit == 'banana':\n",
    "        print('stop eating')\n",
    "        break\n",
    "    print(fruit)\n",
    "else:\n",
    "    print('I ate all!')"
   ]
  },
  {
   "cell_type": "code",
   "execution_count": 67,
   "metadata": {},
   "outputs": [
    {
     "name": "stdout",
     "output_type": "stream",
     "text": [
      "0\n",
      "1\n",
      "2\n",
      "3\n",
      "4\n",
      "5\n",
      "6\n",
      "7\n",
      "8\n",
      "9\n",
      "hello\n",
      "hello\n",
      "hello\n",
      "hello\n",
      "hello\n",
      "hello\n",
      "hello\n",
      "hello\n",
      "hello\n",
      "hello\n"
     ]
    }
   ],
   "source": [
    "#num_list =[0,1,2,3,4,5,6,7,8,9]　とか書くのめんどくさい\n",
    "#for i in num_list:\n",
    "# print (i)\n",
    "\n",
    "for i in range(10):\n",
    "    print(i)\n",
    "\n",
    "#基本的に数字を入れない時は「_」を使って書く\n",
    "for _i in range(10):\n",
    "    print('hello')"
   ]
  },
  {
   "cell_type": "code",
   "execution_count": 76,
   "metadata": {},
   "outputs": [
    {
     "name": "stdout",
     "output_type": "stream",
     "text": [
      "0 apple\n",
      "1 banana\n",
      "2 orange\n",
      "0 apple\n",
      "1 banana\n",
      "2 orange\n"
     ]
    }
   ],
   "source": [
    "#enumurate関数を使って書ける話。 例えば番号とstring出す時は以下だが、、、\n",
    "\n",
    "i=0\n",
    "for fruit in ['apple', 'banana', 'orange']:\n",
    "    print(i, fruit)\n",
    "    i+=1\n",
    "    \n",
    "#enumerate関数を使うと\n",
    "\n",
    "for i, fruit in enumerate(['apple', 'banana', 'orange']):\n",
    "    print(i, fruit)"
   ]
  },
  {
   "cell_type": "code",
   "execution_count": 81,
   "metadata": {},
   "outputs": [
    {
     "name": "stdout",
     "output_type": "stream",
     "text": [
      "Mon apple coffee\n",
      "Tue banana tea\n",
      "Wed orange beer\n",
      "Mon apple coffee\n",
      "Tue banana tea\n",
      "Wed orange beer\n"
     ]
    }
   ],
   "source": [
    "#zip関数\n",
    "days = ['Mon', 'Tue', 'Wed']\n",
    "fruits = ['apple', 'banana', 'orange']\n",
    "drinks = ['coffee', 'tea', 'beer']\n",
    "\n",
    "#zip関数を使わない場合\n",
    "\n",
    "for i in range(len(days)):\n",
    "    print(days[i], fruits[i], drinks[i])\n",
    "\n",
    "#zip関数を使うと\n",
    "\n",
    "for day,fruit,drink in zip(days, fruits, drinks):\n",
    "    print(day, fruit, drink)"
   ]
  },
  {
   "cell_type": "code",
   "execution_count": 83,
   "metadata": {},
   "outputs": [
    {
     "name": "stdout",
     "output_type": "stream",
     "text": [
      "dict_items([('x', 100), ('y', 200)])\n",
      "x : 100\n",
      "y : 200\n"
     ]
    }
   ],
   "source": [
    "#dictionaryをfor文で回す\n",
    "#d.itemsでリスト化して回すとfor文で回せる\n",
    "\n",
    "d = {'x':100, 'y':200}\n",
    "\n",
    "for k, v in d.items():\n",
    "    print(k, ':', v)"
   ]
  },
  {
   "cell_type": "code",
   "execution_count": 89,
   "metadata": {},
   "outputs": [
    {
     "name": "stdout",
     "output_type": "stream",
     "text": [
      "hi\n",
      "I don't know\n"
     ]
    }
   ],
   "source": [
    "#関数定義について\n",
    "\n",
    "def say_something():\n",
    "    s ='hi'\n",
    "    return s\n",
    "result = say_something()\n",
    "print(result)\n",
    "\n",
    "\n",
    "#if文を使った関数定義\n",
    "\n",
    "def what_is_this(color):\n",
    "    if color =='red':\n",
    "        return 'tomato'\n",
    "    elif color =='green':\n",
    "        return 'green pepper'\n",
    "    else:\n",
    "        return \"I don't know\"\n",
    "\n",
    "result = what_is_this('blue')\n",
    "print(result)"
   ]
  },
  {
   "cell_type": "code",
   "execution_count": 91,
   "metadata": {},
   "outputs": [
    {
     "name": "stdout",
     "output_type": "stream",
     "text": [
      "30\n",
      "ab\n"
     ]
    }
   ],
   "source": [
    "#型を使ううえでの注意。int型で宣言してもstringで入れたら、stringで返してきます\n",
    "\n",
    "#num: int = 10\n",
    "\n",
    "def add_num(a: int, b: int) -> int:\n",
    "    return a + b\n",
    "\n",
    "s = add_num(10, 20)\n",
    "print(s)\n",
    "\n",
    "r = add_num('a', 'b')\n",
    "print(r)"
   ]
  },
  {
   "cell_type": "code",
   "execution_count": 95,
   "metadata": {},
   "outputs": [
    {
     "name": "stdout",
     "output_type": "stream",
     "text": [
      "entree =  beef\n",
      "drink =  beer\n",
      "dessert =  ice\n"
     ]
    }
   ],
   "source": [
    "#キーワードアーギュメント\n",
    "\n",
    "def menu(entree, drink, dessert):\n",
    "    print('entree = ', entree)\n",
    "    print('drink = ', drink)\n",
    "    print('dessert = ', dessert)\n",
    "\n",
    "menu(entree ='beef',dessert ='ice', drink ='beer')\n"
   ]
  },
  {
   "cell_type": "code",
   "execution_count": 99,
   "metadata": {},
   "outputs": [
    {
     "name": "stdout",
     "output_type": "stream",
     "text": [
      "entree =  chicken\n",
      "drink =  beer\n",
      "dessert =  ice\n"
     ]
    }
   ],
   "source": [
    "#デフォルト引数で初期の情報を入力することができる\n",
    "\n",
    "def menu(entree='beef', drink='wine', dessert='ice'):\n",
    "    print('entree = ', entree)\n",
    "    print('drink = ', drink)\n",
    "    print('dessert = ', dessert)\n",
    "    \n",
    "menu(entree = 'chicken', drink='beer')\n"
   ]
  },
  {
   "cell_type": "code",
   "execution_count": 102,
   "metadata": {},
   "outputs": [
    {
     "name": "stdout",
     "output_type": "stream",
     "text": [
      "[100]\n",
      "[100, 100]\n"
     ]
    }
   ],
   "source": [
    "#デフォルト引数での注意点。参照渡しを都度やってしまう(空のリストにならない)\n",
    "\n",
    "def test_func(x, l=[]):\n",
    "    l.append(x)\n",
    "    return l\n",
    "#y= [1,2,3]\n",
    "#r =test_func(100,y)\n",
    "#print(r)\n",
    "r = test_func(100)\n",
    "print(r)\n",
    "\n",
    "r = test_func(100)\n",
    "print(r)\n"
   ]
  },
  {
   "cell_type": "code",
   "execution_count": 103,
   "metadata": {},
   "outputs": [
    {
     "name": "stdout",
     "output_type": "stream",
     "text": [
      "[100]\n",
      "[100]\n"
     ]
    }
   ],
   "source": [
    "#空のリスト・ディクショナリをデフォルトに使いたい\n",
    "\n",
    "def test_func(x, l=None):\n",
    "    if l is None:\n",
    "        l = []\n",
    "    l.append(x)\n",
    "    return l\n",
    "\n",
    "r = test_func(100)\n",
    "print(r)\n",
    "\n",
    "r = test_func(100)\n",
    "print(r)\n"
   ]
  },
  {
   "cell_type": "code",
   "execution_count": 109,
   "metadata": {},
   "outputs": [
    {
     "name": "stdout",
     "output_type": "stream",
     "text": [
      "word= Hi!\n",
      "Mike\n",
      "Nance\n"
     ]
    }
   ],
   "source": [
    "def say_something(word, *args):\n",
    "    print('word=', word)\n",
    "    for arg in args:\n",
    "        print(arg)\n",
    "\n",
    "say_something('Hi!', 'Mike', 'Nance')\n",
    "    "
   ]
  },
  {
   "cell_type": "code",
   "execution_count": 113,
   "metadata": {},
   "outputs": [
    {
     "name": "stdout",
     "output_type": "stream",
     "text": [
      "word= Hi!\n",
      "Mike\n",
      "Nance\n"
     ]
    }
   ],
   "source": [
    "def say_something(word, *args):\n",
    "    print('word=', word)\n",
    "    for arg in args:\n",
    "        print(arg)\n",
    "\n",
    "t=('Mike', 'Nance')\n",
    "say_something('Hi!',*t)"
   ]
  },
  {
   "cell_type": "code",
   "execution_count": 115,
   "metadata": {},
   "outputs": [
    {
     "name": "stdout",
     "output_type": "stream",
     "text": [
      "{'entree': 'beef', 'drink': 'wine'}\n"
     ]
    }
   ],
   "source": [
    "#kwargsでディクショナリのループができる\n",
    "\n",
    "def menu(**kwargs):\n",
    "    print(kwargs)\n",
    "menu(entree='beef', drink='wine')"
   ]
  },
  {
   "cell_type": "code",
   "execution_count": 117,
   "metadata": {},
   "outputs": [
    {
     "name": "stdout",
     "output_type": "stream",
     "text": [
      "entree beef\n",
      "drink wine\n"
     ]
    }
   ],
   "source": [
    "def menu(**kwargs):\n",
    "    for k, v in kwargs.items():\n",
    "        print(k,v)\n",
    "menu(entree='beef', drink='wine')"
   ]
  },
  {
   "cell_type": "code",
   "execution_count": 120,
   "metadata": {},
   "outputs": [
    {
     "name": "stdout",
     "output_type": "stream",
     "text": [
      "Help on function example_func in module __main__:\n",
      "\n",
      "example_func(param1, param2)\n",
      "    Example function with tyoes documented in docstring.\n",
      "    \n",
      "    Args\n",
      "    \n",
      "    Return\n",
      "\n"
     ]
    }
   ],
   "source": [
    "#docstringについて\n",
    "\n",
    "def example_func(param1, param2):\n",
    "    \"\"\"Example function with tyoes documented in docstring.\n",
    "    \n",
    "    Args\n",
    "    \n",
    "    Return\n",
    "    \n",
    "    \n",
    "    \"\"\"\n",
    "    \n",
    "    print(param1)\n",
    "    primt(param2)\n",
    "    return True\n",
    "\n",
    "help(example_func)"
   ]
  },
  {
   "cell_type": "code",
   "execution_count": 122,
   "metadata": {},
   "outputs": [
    {
     "data": {
      "text/plain": [
       "6"
      ]
     },
     "execution_count": 122,
     "metadata": {},
     "output_type": "execute_result"
    }
   ],
   "source": [
    "#関数内関数について\n",
    "\n",
    "def outer(a, b):\n",
    "    \n",
    "    def plus(c, d):\n",
    "        return c + d\n",
    "    \n",
    "    r1= plus(a, b)\n",
    "    r2= plus(b, a)\n",
    "    return(r1 + r2)\n",
    "\n",
    "outer(1,2)"
   ]
  },
  {
   "cell_type": "code",
   "execution_count": 125,
   "metadata": {},
   "outputs": [
    {
     "name": "stdout",
     "output_type": "stream",
     "text": [
      "3\n"
     ]
    }
   ],
   "source": [
    "#クロージャについて\n",
    "def outer(a, b):\n",
    "    \n",
    "    def inner():\n",
    "        return a+b\n",
    "    \n",
    "    return inner\n",
    "\n",
    "f = outer(1,2)\n",
    "\n",
    "r =f()\n",
    "print(r)"
   ]
  },
  {
   "cell_type": "code",
   "execution_count": 127,
   "metadata": {},
   "outputs": [
    {
     "data": {
      "text/plain": [
       "314.1592"
      ]
     },
     "execution_count": 127,
     "metadata": {},
     "output_type": "execute_result"
    }
   ],
   "source": [
    "def circle_area_func(pi):\n",
    "    def circle_area(radius):\n",
    "        return pi * radius*radius\n",
    "    \n",
    "    return circle_area\n",
    "\n",
    "cal1 = circle_area_func(3.14)\n",
    "cal2 = circle_area_func(3.141592)\n",
    "\n",
    "cal1(10)\n",
    "cal2(10)"
   ]
  },
  {
   "cell_type": "code",
   "execution_count": 135,
   "metadata": {},
   "outputs": [
    {
     "name": "stdout",
     "output_type": "stream",
     "text": [
      "func: wrapper\n",
      "args: (10, 20)\n",
      "kwargs: {}\n",
      "start\n",
      "end\n",
      "result: 30\n",
      "30\n"
     ]
    }
   ],
   "source": [
    "##デコレーター\n",
    "\n",
    "def print_more(func):  \n",
    "    def wrapper(*args, **kwargs):\n",
    "        print('func:', func.__name__)\n",
    "        print('args:', args)\n",
    "        print('kwargs:', kwargs)\n",
    "        result = func(*args, **kwargs)\n",
    "        print('result:', result)\n",
    "        return result\n",
    "    return wrapper\n",
    "\n",
    "def print_info(func):  \n",
    "    def wrapper(*args, **kwargs):\n",
    "        print('start')\n",
    "        result = func(*args, **kwargs)\n",
    "        print('end')\n",
    "        return result\n",
    "    return wrapper\n",
    "\n",
    "##デコレーター関数の指定は「@hogehoge(デコレーター名)」で使える\n",
    "@print_more\n",
    "@print_info\n",
    "def add_num(a,b):\n",
    "    return a+b\n",
    "\n",
    "r= add_num(10,20)\n",
    "print(r)"
   ]
  },
  {
   "cell_type": "code",
   "execution_count": 138,
   "metadata": {},
   "outputs": [
    {
     "name": "stdout",
     "output_type": "stream",
     "text": [
      "Mon\n",
      "Wed\n",
      "Tue\n",
      "Sat\n",
      "Fri\n",
      "Thu\n",
      "Sun\n"
     ]
    }
   ],
   "source": [
    "#ラムダ\n",
    "\n",
    "l={'Mon','tue','Wed','Thu', 'fri', 'sat', 'Sun'}\n",
    "\n",
    "def change_words(words, func):\n",
    "    for word in words:\n",
    "        print(func(word))\n",
    "\n",
    "#def sample_func(word):\n",
    "#    return word.capitalize()\n",
    "\n",
    "sample_func = lambda word: word.capitalize()\n",
    "\n",
    "change_words(l, sample_func)\n",
    "\n",
    "#change_words(l, lambda word: word.capitalize)"
   ]
  },
  {
   "cell_type": "code",
   "execution_count": 139,
   "metadata": {},
   "outputs": [
    {
     "name": "stdout",
     "output_type": "stream",
     "text": [
      "Good afternoon\n",
      "Good night\n",
      "Good Morning\n",
      "#############\n",
      "good morning\n",
      "@@@@@\n",
      "good afternoon\n",
      "@@@@@\n",
      "good night\n"
     ]
    }
   ],
   "source": [
    "#ジェネレーター(1)\n",
    "\n",
    "l ={'Good Morning', 'Good afternoon', 'Good night' }\n",
    "\n",
    "for i in l:\n",
    "    print(i)\n",
    "\n",
    "print(\"#############\")\n",
    "\n",
    "def greeting():\n",
    "    yield 'good morning'\n",
    "    yield 'good afternoon'\n",
    "    yield 'good night'\n",
    "\n",
    "g = greeting()\n",
    "\n",
    "print(next(g))\n",
    "\n",
    "print(\"@@@@@\")\n",
    "print(next(g))\n",
    "\n",
    "print(\"@@@@@\")\n",
    "\n",
    "print(next(g))"
   ]
  },
  {
   "cell_type": "code",
   "execution_count": 143,
   "metadata": {},
   "outputs": [
    {
     "name": "stdout",
     "output_type": "stream",
     "text": [
      "good morning\n",
      "run\n",
      "run\n",
      "run\n",
      "run\n",
      "run\n",
      "run\n",
      "good afternoon\n",
      "run\n",
      "run\n",
      "run\n",
      "run\n"
     ]
    },
    {
     "ename": "StopIteration",
     "evalue": "",
     "output_type": "error",
     "traceback": [
      "\u001b[0;31m---------------------------------------------------------------------------\u001b[0m",
      "\u001b[0;31mStopIteration\u001b[0m                             Traceback (most recent call last)",
      "\u001b[0;32m<ipython-input-143-a696764c406f>\u001b[0m in \u001b[0;36m<module>\u001b[0;34m\u001b[0m\n\u001b[1;32m     28\u001b[0m \u001b[0mprint\u001b[0m\u001b[0;34m(\u001b[0m\u001b[0mnext\u001b[0m\u001b[0;34m(\u001b[0m\u001b[0mc\u001b[0m\u001b[0;34m)\u001b[0m\u001b[0;34m)\u001b[0m\u001b[0;34m\u001b[0m\u001b[0;34m\u001b[0m\u001b[0m\n\u001b[1;32m     29\u001b[0m \u001b[0mprint\u001b[0m\u001b[0;34m(\u001b[0m\u001b[0mnext\u001b[0m\u001b[0;34m(\u001b[0m\u001b[0mc\u001b[0m\u001b[0;34m)\u001b[0m\u001b[0;34m)\u001b[0m\u001b[0;34m\u001b[0m\u001b[0;34m\u001b[0m\u001b[0m\n\u001b[0;32m---> 30\u001b[0;31m \u001b[0mprint\u001b[0m\u001b[0;34m(\u001b[0m\u001b[0mnext\u001b[0m\u001b[0;34m(\u001b[0m\u001b[0mc\u001b[0m\u001b[0;34m)\u001b[0m\u001b[0;34m)\u001b[0m\u001b[0;34m\u001b[0m\u001b[0;34m\u001b[0m\u001b[0m\n\u001b[0m\u001b[1;32m     31\u001b[0m \u001b[0mprint\u001b[0m\u001b[0;34m(\u001b[0m\u001b[0mnext\u001b[0m\u001b[0;34m(\u001b[0m\u001b[0mc\u001b[0m\u001b[0;34m)\u001b[0m\u001b[0;34m)\u001b[0m\u001b[0;34m\u001b[0m\u001b[0;34m\u001b[0m\u001b[0m\n\u001b[1;32m     32\u001b[0m \u001b[0;34m\u001b[0m\u001b[0m\n",
      "\u001b[0;31mStopIteration\u001b[0m: "
     ]
    }
   ],
   "source": [
    "#ジェネレーター(2)\n",
    "\n",
    "def counter(num=10):\n",
    "    for _  in range(num):\n",
    "        yield 'run'\n",
    "\n",
    "def greeting():\n",
    "    yield 'good morning'\n",
    "    yield 'good afternoon'\n",
    "    yield 'good night'\n",
    "\n",
    "g = greeting()\n",
    "c = counter()\n",
    "\n",
    "print(next(g))\n",
    "\n",
    "print(next(c))\n",
    "print(next(c))\n",
    "print(next(c))\n",
    "print(next(c))\n",
    "print(next(c))\n",
    "print(next(c))\n",
    "\n",
    "\n",
    "print(next(g))\n",
    "\n",
    "print(next(c))\n",
    "print(next(c))\n",
    "print(next(c))\n",
    "print(next(c))\n",
    "print(next(c))\n",
    "print(next(c))\n",
    "\n",
    "print(next(g))"
   ]
  },
  {
   "cell_type": "code",
   "execution_count": 150,
   "metadata": {},
   "outputs": [
    {
     "name": "stdout",
     "output_type": "stream",
     "text": [
      "[2, 4]\n",
      "[2, 4]\n",
      "[5, 6, 7, 8, 9, 10, 10, 12, 14, 16, 18, 20, 15, 18, 21, 24, 27, 30, 20, 24, 28, 32, 36, 40, 25, 30, 35, 40, 45, 50]\n",
      "[5, 6, 7, 8, 9, 10, 10, 12, 14, 16, 18, 20, 15, 18, 21, 24, 27, 30, 20, 24, 28, 32, 36, 40, 25, 30, 35, 40, 45, 50]\n"
     ]
    }
   ],
   "source": [
    "##リスト内表記\n",
    "\n",
    "t = (1,2,3,4,5)\n",
    "t2 = (5,6,7,8,9,10)\n",
    "\n",
    "r =[]\n",
    "\n",
    "for i in t:\n",
    "    if i %2 ==0:\n",
    "        r.append(i)\n",
    "\n",
    "print(r)\n",
    "\n",
    "r = [i for i in t if i  % 2==0]\n",
    "print(r)\n",
    "\n",
    "r = []\n",
    "for i in t:\n",
    "    for j in t2:\n",
    "        r.append(i*j)\n",
    "print(r)\n",
    "\n",
    "r = [i*j for i in t for j in t2]\n",
    "print(r)"
   ]
  },
  {
   "cell_type": "code",
   "execution_count": 153,
   "metadata": {},
   "outputs": [
    {
     "name": "stdout",
     "output_type": "stream",
     "text": [
      "{'mon': 'coffee', 'tue': 'milk', 'wed': 'water'}\n",
      "{'mon': 'coffee', 'tue': 'milk', 'wed': 'water'}\n"
     ]
    }
   ],
   "source": [
    "##辞書包括表記\n",
    "w =[ 'mon', 'tue', 'wed']\n",
    "f = ['coffee', 'milk', 'water']\n",
    "\n",
    "d= {}\n",
    "for x,y in zip(w,f):\n",
    "    d[x] = y\n",
    "\n",
    "print(d)\n",
    "\n",
    "d = {x: y for x, y in zip(w, f)}\n",
    "print(d)"
   ]
  },
  {
   "cell_type": "code",
   "execution_count": 155,
   "metadata": {},
   "outputs": [
    {
     "name": "stdout",
     "output_type": "stream",
     "text": [
      "{0, 2, 4, 6, 8}\n",
      "{0, 2, 4, 6, 8}\n"
     ]
    }
   ],
   "source": [
    "##集合内包表記\n",
    "\n",
    "s = set()\n",
    "\n",
    "for i in range(10):\n",
    "    if i % 2 ==0:\n",
    "        s.add(i)\n",
    "print(s)\n",
    "\n",
    "\n",
    "s={i for i in range(10) if i % 2 ==0}\n",
    "print(s)"
   ]
  },
  {
   "cell_type": "code",
   "execution_count": 156,
   "metadata": {},
   "outputs": [
    {
     "name": "stdout",
     "output_type": "stream",
     "text": [
      "<class 'tuple'>\n",
      "(0, 1, 2, 3, 4, 5, 6, 7, 8, 9)\n"
     ]
    }
   ],
   "source": [
    "##ジェネレーター内包表記\n",
    "def g():\n",
    "    for i in range(10):\n",
    "        yield i\n",
    "        \n",
    "g = g()\n",
    "\n",
    "g = tuple(i for i in range(10))\n",
    "print(type(g))\n",
    "print(g)"
   ]
  },
  {
   "cell_type": "code",
   "execution_count": 183,
   "metadata": {},
   "outputs": [
    {
     "name": "stdout",
     "output_type": "stream",
     "text": [
      "Dont worry: list index out of range\n",
      "clean up\n"
     ]
    }
   ],
   "source": [
    "#例外処理について\n",
    "\n",
    "l = [1,2,3]\n",
    "i = 5\n",
    "\n",
    "try:\n",
    "       l[i]\n",
    "    \n",
    "#エラーが出た時(今回はインデックスエラーの際に出力)\n",
    "except IndexError as ex:\n",
    "    print(\"Dont worry: {}\".format(ex))\n",
    "\n",
    "except NameError as ex:\n",
    "    print(ex)\n",
    "    \n",
    "else:\n",
    "  print('done')\n",
    "finally:    \n",
    "    print(\"clean up\")"
   ]
  },
  {
   "cell_type": "code",
   "execution_count": 195,
   "metadata": {},
   "outputs": [
    {
     "name": "stdout",
     "output_type": "stream",
     "text": [
      "This is my fault. Go next\n"
     ]
    }
   ],
   "source": [
    "class UppercaseError(Exception):\n",
    "    pass\n",
    "\n",
    "def check():\n",
    "    words = ['APPLE', 'ORANGE', 'banana']\n",
    "    for word in words:\n",
    "        if word.isupper():\n",
    "            raise UppercaseError(word)\n",
    "\n",
    "try:\n",
    "    check()\n",
    "except UppercaseError as exc:\n",
    "    print('This is my fault. Go next')"
   ]
  },
  {
   "cell_type": "code",
   "execution_count": null,
   "metadata": {},
   "outputs": [],
   "source": []
  }
 ],
 "metadata": {
  "kernelspec": {
   "display_name": "Python 3",
   "language": "python",
   "name": "python3"
  },
  "language_info": {
   "codemirror_mode": {
    "name": "ipython",
    "version": 3
   },
   "file_extension": ".py",
   "mimetype": "text/x-python",
   "name": "python",
   "nbconvert_exporter": "python",
   "pygments_lexer": "ipython3",
   "version": "3.7.1"
  }
 },
 "nbformat": 4,
 "nbformat_minor": 2
}
