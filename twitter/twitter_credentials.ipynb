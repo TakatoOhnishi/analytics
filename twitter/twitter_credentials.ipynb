{
 "cells": [
  {
   "cell_type": "code",
   "execution_count": null,
   "metadata": {},
   "outputs": [],
   "source": [
    "#token取得方法は参考リンクを確認\n",
    "CONSUMER_KEY = 'y4nZaj2LViYJRz9ELqJn5amzm'\n",
    "CONSUMER_SECRET = 'X5WHLFzD1i6L5dmLlW9IZmkhlkTf1Q1rT2OvKXfVMKHCeCO7oo'\n",
    "ACCESS_TOKEN = '1173035845630038016-QurrcoPoay1DS1Vep8WMQyDRS0i03E'\n",
    "ACCESS_TOKEN_SECRET = 'bPx5UaueuwUccdGQWx2e7NkXm81FRe5hpLTI0CXGypdTp'"
   ]
  }
 ],
 "metadata": {
  "kernelspec": {
   "display_name": "Python 3",
   "language": "python",
   "name": "python3"
  },
  "language_info": {
   "codemirror_mode": {
    "name": "ipython",
    "version": 3
   },
   "file_extension": ".py",
   "mimetype": "text/x-python",
   "name": "python",
   "nbconvert_exporter": "python",
   "pygments_lexer": "ipython3",
   "version": "3.7.1"
  }
 },
 "nbformat": 4,
 "nbformat_minor": 2
}
